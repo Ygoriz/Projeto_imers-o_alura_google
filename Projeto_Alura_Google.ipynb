{
  "nbformat": 4,
  "nbformat_minor": 0,
  "metadata": {
    "colab": {
      "provenance": [],
      "authorship_tag": "ABX9TyMYpPJ0U144Y2bFUjgiLn3E",
      "include_colab_link": true
    },
    "kernelspec": {
      "name": "python3",
      "display_name": "Python 3"
    },
    "language_info": {
      "name": "python"
    }
  },
  "cells": [
    {
      "cell_type": "markdown",
      "metadata": {
        "id": "view-in-github",
        "colab_type": "text"
      },
      "source": [
        "<a href=\"https://colab.research.google.com/github/Ygoriz/Projeto_imers-o_alura_google/blob/main/Projeto_Alura_Google.ipynb\" target=\"_parent\"><img src=\"https://colab.research.google.com/assets/colab-badge.svg\" alt=\"Open In Colab\"/></a>"
      ]
    },
    {
      "cell_type": "markdown",
      "source": [
        "**Instalando a SDK do google**"
      ],
      "metadata": {
        "id": "QtmcO8zOxgxW"
      }
    },
    {
      "cell_type": "code",
      "execution_count": 3,
      "metadata": {
        "id": "J6Pd9SFJ1yVi"
      },
      "outputs": [],
      "source": [
        "!pip install -q -U google-generativeai"
      ]
    },
    {
      "cell_type": "markdown",
      "source": [
        "**Importando SDK do google**"
      ],
      "metadata": {
        "id": "nNDbPbds-8Bq"
      }
    },
    {
      "cell_type": "code",
      "execution_count": 70,
      "metadata": {
        "id": "HTiaTu6O1LRC"
      },
      "outputs": [],
      "source": [
        "# Import the Python SDK\n",
        "import textwrap\n",
        "import markdown\n",
        "from pathlib import Path\n",
        "\n",
        "from google.colab import userdata\n",
        "api_key = userdata.get(\"SECRET_KEY\")\n",
        "import google.generativeai as genai\n",
        "\n",
        "genai.configure(api_key=api_key)"
      ]
    },
    {
      "cell_type": "markdown",
      "source": [
        "**Fazendo um Looping com o \"for\" para ver a lista de modelos da biblioteca do google armazenada na variavel genai**"
      ],
      "metadata": {
        "id": "fMAAZAGI3F5U"
      }
    },
    {
      "cell_type": "code",
      "source": [
        "for m in genai.list_models():\n",
        "  if \"generateContent\" in m.supported_generation_methods:\n",
        "    print(m.name)"
      ],
      "metadata": {
        "colab": {
          "base_uri": "https://localhost:8080/",
          "height": 139
        },
        "id": "W5BdgsvfyGWj",
        "outputId": "ae2ac2e7-1b91-4e77-df57-97c6c0cc129e"
      },
      "execution_count": 5,
      "outputs": [
        {
          "output_type": "stream",
          "name": "stdout",
          "text": [
            "models/gemini-1.0-pro\n",
            "models/gemini-1.0-pro-001\n",
            "models/gemini-1.0-pro-latest\n",
            "models/gemini-1.0-pro-vision-latest\n",
            "models/gemini-1.5-pro-latest\n",
            "models/gemini-pro\n",
            "models/gemini-pro-vision\n"
          ]
        }
      ]
    },
    {
      "cell_type": "markdown",
      "source": [
        "**Organizando as configurações do gemini**\n"
      ],
      "metadata": {
        "id": "dVw4EtKe2x21"
      }
    },
    {
      "cell_type": "code",
      "source": [
        "generation_config = {\n",
        "    \"candidate_count\":1,\n",
        "    \"temperature\": 0.8,\n",
        "}"
      ],
      "metadata": {
        "id": "ZEHG3cpt0uAt"
      },
      "execution_count": 6,
      "outputs": []
    },
    {
      "cell_type": "code",
      "source": [
        "safety_setting = {\n",
        "    \"harassment\": \"block_none\",\n",
        "    \"hate\": \"block_none\",\n",
        "    \"sexual\": \"block_none\"\n",
        "}"
      ],
      "metadata": {
        "id": "dsyGMZzz07a2"
      },
      "execution_count": 7,
      "outputs": []
    },
    {
      "cell_type": "markdown",
      "source": [
        "**Colocando instruções no sistema**\n"
      ],
      "metadata": {
        "id": "ZZxrK8Q--nGK"
      }
    },
    {
      "cell_type": "code",
      "source": [
        "system_instruction = \"complete as informações de forma simples, clara e objetiva, de acordo com a imagem da planta que o usuário mandar. responda de uma maneira que pareça ser uma conversação. não coloque mais nada a não ser o que se pede.\\n\\n==========\\n\\nNOME DA PLANTA: \\n\\n==========\\nDESCRIÇÃO GERAL\\nOrigem:\\nHabitat Natural:\\nVida Útil:\\nCiclo de Vida: (Anual, bienal ou perene)\\nÉpoca de Floração: \\nÉpoca de Frutificação: \\nDormência: \\n\\n=====\\nCUIDADOS DE CULTIVO\\n\\nPROPAGAÇÃO\\nÉpoca ideal para semear:\\nÉpoca ideal para plantar estacas:\\n\\nPODA\\nFrequência:\\nÉpoca ideal:\\nTipo de poda recomendada:\\n\\nREPLANTIO\\nQuando:\\nComo:\\n\\nFERTILIZANTE\\nTipos de fertilizantes recomendados:\\nFrequência:\\nÉpoca de aplicação:\\n\\nREGA\\nQuantidade de Água:\\n\\nEXPOSIÇÃO SOLAR\\nLocalização Ideal:\\nTempo ideal:\\n\\nTEMPERATURA \\nTemperatura Ideal:\\nEstação de Crescimento:\\n\\nSOLO \\ntipo de solo:\\nPH ideal:\\n\\nPRAGAS E DOENÇAS\\nPragas mais comuns:\\nDoenças mais comuns:\\nSintomas:\\nPrevenção:\\nTratamento:\\n\\nERVA DANINHA ?:\\n\\n==========\\n\\nCARACTERÍSTICAS FÍSICAS\\nRAIZ \\nTipo:\\nTamanho:\\nCaracterísticas específicas:\\n\\nCAULE\\nTipo:\\nTextura:\\nPresença de espinhos:\\n\\nFOLHAS\\nFormato:\\nTamanho:\\nTextura:\\nAroma:\\nfilotaxia:\\n\\nFLORES\\nFormato:\\nTamanho:\\nCor:\\nAroma:\\ninflorescência:\\n\\nFRUTOS\\nTipo:\\nTamanho:\\nCor:\\nSabor:\\nTextura:\\n\\nSEMENTES\\nFormato:\\nTamanho:\\nCor:\\nNúmero por fruto:\\n\\n==========\\n\\nIDENTIFICAÇÃO E DIFERENCIAÇÃO\\nDicas:\\n\\n==========\\n\\nPROPAGAÇÃO E REPRODUÇÃO\\nMétodos\\n\\n==========\\n\\nUSOS E APLICAÇÕES\\nUsos Tradicionais:\\nAplicações Modernas:\\n\\n==========\\n\\nPRECAUÇÕES E AVISOS\\nToxicidade:\\nEspinhos:\\n\\n==========\\n\\nCONTEXTO HISTÓRICO\\nContexto:\\n\\n==========\\n\\n\\nCLASSIFICAÇÃO CIENTÍFICA\\nNome Científico:\\nReino:\\nFilo:\\nClasse:\\nOrdem:\\nFamília:\\nGênero:\\nEspécie:\\n\\n==========\""
      ],
      "metadata": {
        "id": "yDldexGa-hwj"
      },
      "execution_count": 73,
      "outputs": []
    },
    {
      "cell_type": "markdown",
      "source": [
        "**Inicializando o modelo (configurado acima)**"
      ],
      "metadata": {
        "id": "rddOltyr31Mw"
      }
    },
    {
      "cell_type": "code",
      "source": [
        "model = genai.GenerativeModel(model_name =\"gemini-1.5-pro-latest\", generation_config = generation_config,\n",
        "                              safety_settings = safety_setting, system_instruction = system_instruction)"
      ],
      "metadata": {
        "id": "SpiQYa4h2hwy"
      },
      "execution_count": 66,
      "outputs": []
    },
    {
      "cell_type": "code",
      "source": [
        "# Carrega a imagem\n",
        "imagem = Path(\"/content/imagens/planta.jpg\") # crie uma pasta com o nome \"imagens\" (caso não tenha nos arquivos) e coloque a imagem que deseja pedir uma descrição detalhada\n",
        "# depois que colocar a imagem, mude no diretório o nome e o modelo dela (png, jpg, etc) e execute o codigo normalmente\n",
        "convo = model.start_chat(history=[\n",
        "  {\n",
        "    \"role\": \"user\",  # Define o papel do usuário.\n",
        "    \"parts\": [genai.upload_file(imagem)] # Envia a imagem para o modelo\n",
        "  }\n",
        "])\n",
        "\n",
        "convo.send_message(\"Analise a imagem e responda de acordo com o system instruction.\") # mensagem pré-citada para executar juntamente com o system instrution\n",
        "print(convo.last.text)"
      ],
      "metadata": {
        "id": "2HcJAJG25Cq-"
      },
      "execution_count": null,
      "outputs": []
    }
  ]
}